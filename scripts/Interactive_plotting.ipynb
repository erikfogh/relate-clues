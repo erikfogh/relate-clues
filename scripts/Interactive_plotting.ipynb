{
 "cells": [
  {
   "cell_type": "code",
   "execution_count": 4,
   "metadata": {},
   "outputs": [],
   "source": [
    "import numpy as np\n",
    "import pandas as pd\n",
    "\n",
    "# Make inline plots vector graphics instead of raster graphics\n",
    "from IPython.display import set_matplotlib_formats\n",
    "#set_matplotlib_formats('pdf', 'svg')\n",
    "set_matplotlib_formats('retina', 'png')\n",
    "\n",
    "path_to_results = \"/faststorage/home/eriks/relate-clues/results/\"\n",
    "CEU = \"CEU_kept_clues/clues_table.txt\""
   ]
  },
  {
   "cell_type": "code",
   "execution_count": 17,
   "metadata": {},
   "outputs": [],
   "source": [
    "df = pd.read_table(path_to_results+CEU, sep=\" \")"
   ]
  },
  {
   "cell_type": "code",
   "execution_count": 34,
   "metadata": {},
   "outputs": [
    {
     "name": "stdout",
     "output_type": "stream",
     "text": [
      "         pos  DataFreq  lineages  relate_p  relate_p_true  \\\n",
      "0   45001043         3       198 -0.500169       0.500169   \n",
      "1   45100256       125       198 -1.152050       1.152050   \n",
      "2   45200128         3       198 -0.418204       0.418204   \n",
      "3   45300197         6       198 -0.294864       0.294864   \n",
      "4   45400715        13       198 -1.226200       1.226200   \n",
      "..       ...       ...       ...       ...            ...   \n",
      "95  54500050         3       198 -0.180164       0.180164   \n",
      "96  54600443       103       198 -0.318000       0.318000   \n",
      "97  54701435         3       198 -0.257949       0.257949   \n",
      "98  54800316        13       198 -0.035163       0.035163   \n",
      "99  54900061         7       198 -0.126016       0.126016   \n",
      "\n",
      "    relate_p_transformed  \n",
      "0               0.500169  \n",
      "1               1.152050  \n",
      "2               0.418204  \n",
      "3               0.294864  \n",
      "4               1.226200  \n",
      "..                   ...  \n",
      "95              0.180164  \n",
      "96              0.318000  \n",
      "97              0.257949  \n",
      "98              0.035163  \n",
      "99              0.126016  \n",
      "\n",
      "[100 rows x 6 columns]\n"
     ]
    },
    {
     "data": {
      "text/plain": [
       "<matplotlib.axes._subplots.AxesSubplot at 0x2ab7342e2e90>"
      ]
     },
     "execution_count": 34,
     "metadata": {},
     "output_type": "execute_result"
    },
    {
     "data": {
      "image/png": "[encoded data removed]",
      "text/plain": [
       "<Figure size 432x288 with 1 Axes>"
      ]
     },
     "metadata": {
      "needs_background": "light"
     },
     "output_type": "display_data"
    }
   ],
   "source": [
    "df[\"relate_p_transformed\"] = -df[\"relate_p\"]\n",
    "print(df)\n",
    "df.plot.scatter(x=\"pos\", y=\"relate_p_transformed\")"
   ]
  },
  {
   "cell_type": "code",
   "execution_count": 32,
   "metadata": {},
   "outputs": [
    {
     "data": {
      "text/plain": [
       "8"
      ]
     },
     "execution_count": 32,
     "metadata": {},
     "output_type": "execute_result"
    }
   ],
   "source": []
  }
 ],
 "metadata": {
  "kernelspec": {
   "display_name": "Python 3",
   "language": "python",
   "name": "python3"
  },
  "language_info": {
   "codemirror_mode": {
    "name": "ipython",
    "version": 3
   },
   "file_extension": ".py",
   "mimetype": "text/x-python",
   "name": "python",
   "nbconvert_exporter": "python",
   "pygments_lexer": "ipython3",
   "version": "3.7.7"
  }
 },
 "nbformat": 4,
 "nbformat_minor": 4
}
